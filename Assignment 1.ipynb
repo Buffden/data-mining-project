{
 "cells": [
  {
   "cell_type": "markdown",
   "metadata": {},
   "source": [
    "# Assignment 1 - Exploratory Data Analysis"
   ]
  },
  {
   "cell_type": "markdown",
   "metadata": {},
   "source": [
    "## Instructions"
   ]
  },
  {
   "cell_type": "markdown",
   "metadata": {},
   "source": [
    "For the First Assignment, we are going to be Performing Exploratory Data Analysis Using Python, R and any AI(Chatgpt, Perplexity, etc) and Critical Thinking.\n",
    "\n",
    "1. There are set of questions that are similar for Python, R and AI task.\n",
    "2. The dataset are same for all the tasks.\n",
    "3. For Task involving R use a different R notebook.\n",
    "4. You have to provide the prompts by using any AI(Chatgpt, Perplexity, etc) to get the answers for each question.\n",
    "5. Provide the screenshot of the prompt and the output provided by the AI in the word document.\n",
    "6. Provide the steps to solve the Critical Thinking tasks and also the respective code.\n",
    "7. Each Task is presenting a challenge."
   ]
  },
  {
   "cell_type": "markdown",
   "metadata": {},
   "source": [
    "## Task 1: Python (25 Points)"
   ]
  },
  {
   "cell_type": "markdown",
   "metadata": {},
   "source": [
    "Run this cell by default to load the dataset.\n",
    "\n",
    "This tabular dataset consists of Human Resources details with data about name,emp id,etc"
   ]
  },
  {
   "cell_type": "code",
   "execution_count": null,
   "metadata": {},
   "outputs": [],
   "source": [
    "import pandas as pd\n",
    "HR_data = pd.read_csv(\"Dataset/HRDataset_v14.csv\")\n",
    "HR_data.head()"
   ]
  },
  {
   "cell_type": "markdown",
   "metadata": {},
   "source": [
    "### Task 1A: 2 points\n",
    "1. Check for the null values within each columns\n",
    "2. Drop the rows containing the missing values"
   ]
  },
  {
   "cell_type": "code",
   "execution_count": null,
   "metadata": {},
   "outputs": [],
   "source": [
    "# 1. Check for null values in each column\n",
    "print(HR_data.isnull().sum())\n",
    "print(f\"Dataset shape before dropping nulls: {HR_data.shape}\")\n",
    "\n",
    "# 2. Drop rows containing missing values\n",
    "HR_data_cleaned = HR_data.dropna()\n",
    "print(f\"Dataset shape after dropping nulls: {HR_data_cleaned.shape}\")\n"
   ]
  },
  {
   "cell_type": "code",
   "execution_count": null,
   "metadata": {},
   "outputs": [],
   "source": []
  },
  {
   "cell_type": "markdown",
   "metadata": {},
   "source": [
    "### Task 1B: 2 points\n",
    "1. Plot a histogram for distribution of salary column"
   ]
  },
  {
   "cell_type": "code",
   "execution_count": null,
   "metadata": {},
   "outputs": [],
   "source": [
    "# Task 1B: Plot histogram for salary distribution\n",
    "import matplotlib.pyplot as plt\n",
    "\n",
    "plt.hist(HR_data_cleaned['Salary'], bins=20)\n",
    "plt.title('Distribution of Employee Salaries')\n",
    "plt.xlabel('Salary')\n",
    "plt.ylabel('Frequency')\n",
    "plt.show()\n"
   ]
  },
  {
   "cell_type": "markdown",
   "metadata": {},
   "source": [
    "### Task 1C: 2 points\n",
    "1. Count the number of employees in each department\n",
    "2. Plot & visualize the number of employees in each department"
   ]
  },
  {
   "cell_type": "code",
   "execution_count": null,
   "metadata": {},
   "outputs": [],
   "source": [
    "# Task 1C: Count and plot employees by department\n",
    "\n",
    "# 1. Count the number of employees in each department\n",
    "dept_counts = HR_data_cleaned['Department'].value_counts()\n",
    "print(dept_counts)\n",
    "\n",
    "# 2. Plot & visualize the number of employees in each department\n",
    "dept_counts.plot(kind='bar')\n",
    "plt.title('Number of Employees by Department')\n",
    "plt.xlabel('Department')\n",
    "plt.ylabel('Number of Employees')\n",
    "plt.xticks(rotation=45)\n",
    "plt.show()"
   ]
  },
  {
   "cell_type": "markdown",
   "metadata": {},
   "source": [
    "### Task 1D: 2 points\n",
    "Create a boxplot showing the analysis the relation between Salary and Department"
   ]
  },
  {
   "cell_type": "code",
   "execution_count": null,
   "metadata": {},
   "outputs": [],
   "source": [
    "# Task 1D: Boxplot showing relation between Salary and Department\n",
    "import seaborn as sns\n",
    "\n",
    "plt.figure(figsize=(12, 6))\n",
    "sns.boxplot(data=HR_data_cleaned, x='Department', y='Salary')\n",
    "plt.title('Salary Distribution by Department')\n",
    "plt.xlabel('Department')\n",
    "plt.ylabel('Salary')\n",
    "plt.xticks(rotation=45)\n",
    "plt.show()\n"
   ]
  },
  {
   "cell_type": "code",
   "execution_count": null,
   "metadata": {},
   "outputs": [],
   "source": []
  },
  {
   "cell_type": "markdown",
   "metadata": {},
   "source": [
    "### Task 1E: 2 points\n",
    "Analyze and plot distribution of the performance score "
   ]
  },
  {
   "cell_type": "code",
   "execution_count": null,
   "metadata": {},
   "outputs": [],
   "source": []
  },
  {
   "cell_type": "markdown",
   "metadata": {},
   "source": [
    "### Task 1F: 3 points\n",
    "Plot a histogram to analyze the distribution of employees age"
   ]
  },
  {
   "cell_type": "code",
   "execution_count": null,
   "metadata": {},
   "outputs": [],
   "source": []
  },
  {
   "cell_type": "code",
   "execution_count": null,
   "metadata": {},
   "outputs": [],
   "source": []
  },
  {
   "cell_type": "markdown",
   "metadata": {},
   "source": [
    "### Task 1G: 3 points\n",
    "Visualize the number of employees terminated for different reasons"
   ]
  },
  {
   "cell_type": "code",
   "execution_count": null,
   "metadata": {},
   "outputs": [],
   "source": []
  },
  {
   "cell_type": "markdown",
   "metadata": {},
   "source": [
    "### Task 1H: 3 points\n",
    "Plot a histogram by analyzing the relationship between employee satisfaction and engagement survey score"
   ]
  },
  {
   "cell_type": "code",
   "execution_count": null,
   "metadata": {},
   "outputs": [],
   "source": []
  },
  {
   "cell_type": "markdown",
   "metadata": {},
   "source": [
    "### Task 1I: 3 points\n",
    "Analyze and plot a line graph showing the relationship between days late in the last 30 days and performance score"
   ]
  },
  {
   "cell_type": "code",
   "execution_count": null,
   "metadata": {},
   "outputs": [],
   "source": []
  },
  {
   "cell_type": "markdown",
   "metadata": {},
   "source": [
    "### Task 1J: 3 points\n",
    "Calculate and plot a barchart the turnover rate by department"
   ]
  },
  {
   "cell_type": "code",
   "execution_count": null,
   "metadata": {},
   "outputs": [],
   "source": []
  },
  {
   "cell_type": "markdown",
   "metadata": {},
   "source": [
    "## Task 2: R(25 Points)\n",
    "\n",
    "Perform all the task for R where the data and the questions are same as that for Task 1.\n",
    "\n",
    "Use a different R notebook."
   ]
  },
  {
   "cell_type": "markdown",
   "metadata": {},
   "source": [
    "## Task 3: AI (20 Points)\n",
    "\n",
    "Perform all the task using any AI where the data and the questions are same as that for Task 1.\n",
    "\n",
    "Provide the screenshots of prompts and output of AI in word document."
   ]
  },
  {
   "cell_type": "markdown",
   "metadata": {},
   "source": [
    "## Task 4: Critical Thinking (30 Points)"
   ]
  },
  {
   "cell_type": "markdown",
   "metadata": {},
   "source": [
    "### Task 4A: Critical Thinking Task 1- Python (10 Points)\n",
    "Analyze the relationship between employee satisfaction (EmpSatisfaction) and their performance score (PerformanceScore).\n",
    "Does higher employee satisfaction correlate with better performance scores? Use statistical methods to determine the strength and significance of the correlation."
   ]
  },
  {
   "cell_type": "markdown",
   "metadata": {},
   "source": []
  },
  {
   "cell_type": "markdown",
   "metadata": {},
   "source": [
    "### Task 4B: Critical Thinking Task 2: Python (10 Points)\n",
    "Which recruitment source yields employees with the longest tenure, and what might this suggest about the source's effectiveness in finding long-term hires?"
   ]
  },
  {
   "cell_type": "markdown",
   "metadata": {},
   "source": []
  },
  {
   "cell_type": "markdown",
   "metadata": {},
   "source": [
    "### Task 4C: Critical Thinking Task 3: AI (10 Points)\n",
    "Using an AI tool, generate predictions about an employee's likelihood of being terminated (Termd) based on their satisfaction score (EmpSatisfaction), engagement survey score (EngagementSurvey), and recruitment source (RecruitmentSource)?"
   ]
  },
  {
   "cell_type": "markdown",
   "metadata": {},
   "source": []
  },
  {
   "cell_type": "markdown",
   "metadata": {},
   "source": [
    "### Programming Assignment Details\n",
    "\n",
    "1. If using any resource (books, internet,AI), please make sure that you cite it within that cell.\n",
    "2. Do not rename the dataset_files."
   ]
  },
  {
   "cell_type": "markdown",
   "metadata": {},
   "source": [
    "###  Submission details\n",
    "Fill your name and ID in the jupyter notebook for each group member in the following format:\n",
    "\n",
    "1. First Student Name and ID: ABC 1001XXXXXX\n",
    "2. Second Student Name and ID: DEF 1002XXXXXX\n",
    "3. Third Student Name and ID: GHI 1003XXXXXX\n",
    "\n",
    "Name your submission files:\n",
    "\n",
    "yourLastName_Last4digitsofyourID.ipynb \n",
    "\n",
    "yourLastName_Last4digitsofyourID.docx\n",
    "\n",
    "EG: abc_1234_def_5678_xyz3819_python.ipynb, abc_1234_def_5678_xyz3819_R.ipynb and abc_1234_def_5678_xyz3819.docx"
   ]
  },
  {
   "cell_type": "markdown",
   "metadata": {},
   "source": [
    "### NOTE: Only one team member will submit the file."
   ]
  }
 ],
 "metadata": {
  "kernelspec": {
   "display_name": "Python 3",
   "language": "python",
   "name": "python3"
  },
  "language_info": {
   "codemirror_mode": {
    "name": "ipython",
    "version": 3
   },
   "file_extension": ".py",
   "mimetype": "text/x-python",
   "name": "python",
   "nbconvert_exporter": "python",
   "pygments_lexer": "ipython3",
   "version": "3.11.5"
  }
 },
 "nbformat": 4,
 "nbformat_minor": 2
}
