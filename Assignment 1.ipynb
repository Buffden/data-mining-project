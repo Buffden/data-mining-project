{
 "cells": [
  {
   "cell_type": "markdown",
   "metadata": {},
   "source": [
    "# Assignment 1 - Exploratory Data Analysis"
   ]
  },
  {
   "cell_type": "markdown",
   "metadata": {},
   "source": [
    "## Instructions"
   ]
  },
  {
   "cell_type": "markdown",
   "metadata": {},
   "source": [
    "For the First Assignment, we are going to be Performing Exploratory Data Analysis Using Python, R and any AI(Chatgpt, Perplexity, etc) and Critical Thinking.\n",
    "\n",
    "1. There are set of questions that are similar for Python, R and AI task.\n",
    "2. The dataset are same for all the tasks.\n",
    "3. For Task involving R use a different R notebook.\n",
    "4. You have to provide the prompts by using any AI(Chatgpt, Perplexity, etc) to get the answers for each question.\n",
    "5. Provide the screenshot of the prompt and the output provided by the AI in the word document.\n",
    "6. Provide the steps to solve the Critical Thinking tasks and also the respective code.\n",
    "7. Each Task is presenting a challenge."
   ]
  },
  {
   "cell_type": "markdown",
   "metadata": {},
   "source": [
    "## Task 1: Python (25 Points)"
   ]
  },
  {
   "cell_type": "markdown",
   "metadata": {},
   "source": [
    "Run this cell by default to load the dataset.\n",
    "\n",
    "This tabular dataset consists of Human Resources details with data about name,emp id,etc"
   ]
  },
  {
   "cell_type": "code",
   "execution_count": null,
   "metadata": {},
   "outputs": [],
   "source": [
    "import pandas as pd\n",
    "HR_data = pd.read_csv(\"Dataset/HRDataset_v14.csv\")\n",
    "HR_data.head()"
   ]
  },
  {
   "cell_type": "markdown",
   "metadata": {},
   "source": [
    "### Task 1A: 2 points\n",
    "1. Check for the null values within each columns\n",
    "2. Drop the rows containing the missing values"
   ]
  },
  {
   "cell_type": "code",
   "execution_count": null,
   "metadata": {},
   "outputs": [],
   "source": [
    "# 1. Check for null values in each column\n",
    "print(HR_data.isnull().sum())\n",
    "print(f\"Dataset shape before dropping nulls: {HR_data.shape}\")\n",
    "\n",
    "# 2. Drop rows containing missing values\n",
    "HR_data_cleaned = HR_data.dropna()\n",
    "print(f\"Dataset shape after dropping nulls: {HR_data_cleaned.shape}\")\n"
   ]
  },
  {
   "cell_type": "markdown",
   "metadata": {},
   "source": [
    "Observation: There were 207 null values in 'DateofTermination' and 'ManagerID' column and we have removed those null values as asked"
   ]
  },
  {
   "cell_type": "markdown",
   "metadata": {},
   "source": [
    "### Task 1B: 2 points\n",
    "1. Plot a histogram for distribution of salary column"
   ]
  },
  {
   "cell_type": "code",
   "execution_count": null,
   "metadata": {},
   "outputs": [],
   "source": [
    "# Task 1B: Plot histogram for salary distribution\n",
    "import matplotlib.pyplot as plt\n",
    "\n",
    "plt.hist(HR_data_cleaned['Salary'], bins=20)\n",
    "plt.title('Distribution of Employee Salaries')\n",
    "plt.xlabel('Salary')\n",
    "plt.ylabel('Frequency')\n",
    "plt.show()\n"
   ]
  },
  {
   "cell_type": "markdown",
   "metadata": {},
   "source": [
    "### Task 1C: 2 points\n",
    "1. Count the number of employees in each department\n",
    "2. Plot & visualize the number of employees in each department"
   ]
  },
  {
   "cell_type": "code",
   "execution_count": null,
   "metadata": {},
   "outputs": [],
   "source": [
    "# Task 1C: Count and plot employees by department\n",
    "\n",
    "# 1. Count the number of employees in each department\n",
    "dept_counts = HR_data_cleaned['Department'].value_counts()\n",
    "print(dept_counts)\n",
    "\n",
    "# 2. Plot & visualize the number of employees in each department\n",
    "dept_counts.plot(kind='bar')\n",
    "plt.title('Number of Employees by Department')\n",
    "plt.xlabel('Department')\n",
    "plt.ylabel('Number of Employees')\n",
    "plt.xticks(rotation=45)\n",
    "plt.show()"
   ]
  },
  {
   "cell_type": "markdown",
   "metadata": {},
   "source": [
    "### Task 1D: 2 points\n",
    "Create a boxplot showing the analysis the relation between Salary and Department"
   ]
  },
  {
   "cell_type": "code",
   "execution_count": null,
   "metadata": {},
   "outputs": [],
   "source": [
    "# Task 1D: Boxplot showing relation between Salary and Department\n",
    "import seaborn as sns\n",
    "\n",
    "plt.figure(figsize=(12, 6))\n",
    "sns.boxplot(data=HR_data_cleaned, x='Department', y='Salary')\n",
    "plt.title('Salary Distribution by Department')\n",
    "plt.xlabel('Department')\n",
    "plt.ylabel('Salary')\n",
    "plt.xticks(rotation=45)\n",
    "plt.show()\n"
   ]
  },
  {
   "cell_type": "markdown",
   "metadata": {},
   "source": [
    "### Task 1E: 2 points\n",
    "Analyze and plot distribution of the performance score "
   ]
  },
  {
   "cell_type": "code",
   "execution_count": null,
   "metadata": {},
   "outputs": [],
   "source": [
    "# Task 1E: Analyze and plot distribution of performance score\n",
    "\n",
    "# Check what performance score values we have\n",
    "print(\"Performance Score values:\")\n",
    "print(HR_data_cleaned['PerformanceScore'].value_counts())\n",
    "\n",
    "# Plot distribution of performance score\n",
    "HR_data_cleaned['PerformanceScore'].value_counts().plot(kind='bar')\n",
    "plt.title('Distribution of Performance Scores')\n",
    "plt.xlabel('Performance Score')\n",
    "plt.ylabel('Number of Employees')\n",
    "plt.show()\n"
   ]
  },
  {
   "cell_type": "markdown",
   "metadata": {},
   "source": [
    "### Task 1F: 3 points\n",
    "Plot a histogram to analyze the distribution of employees age"
   ]
  },
  {
   "cell_type": "code",
   "execution_count": null,
   "metadata": {},
   "outputs": [],
   "source": [
    "# Task 1F: Plot histogram to analyze distribution of employees age\n",
    "\n",
    "# Calculate age from DOB (Date of Birth)\n",
    "from datetime import datetime\n",
    "\n",
    "# Create a copy to avoid warnings\n",
    "data_copy = HR_data_cleaned.copy()\n",
    "\n",
    "# Convert DOB to datetime - let pandas auto-detect format first\n",
    "data_copy['DOB'] = pd.to_datetime(data_copy['DOB'])\n",
    "\n",
    "# Get current date\n",
    "current_date = datetime.now()\n",
    "\n",
    "# Calculate age\n",
    "data_copy['Age'] = (current_date - data_copy['DOB']).dt.days // 365\n",
    "\n",
    "# Fix any negative ages by adding 100 years to birth year\n",
    "# This handles cases where 2-digit years were interpreted as 2000s instead of 1900s\n",
    "mask_negative = data_copy['Age'] < 0\n",
    "if mask_negative.any():\n",
    "    print(f\"Fixing {mask_negative.sum()} negative ages...\")\n",
    "    data_copy.loc[mask_negative, 'DOB'] = data_copy.loc[mask_negative, 'DOB'] - pd.DateOffset(years=100)\n",
    "    data_copy['Age'] = (current_date - data_copy['DOB']).dt.days // 365\n",
    "\n",
    "print(f\"Age range: {data_copy['Age'].min()} to {data_copy['Age'].max()}\")\n",
    "print(f\"Sample ages: {data_copy['Age'].head(10).tolist()}\")\n",
    "\n",
    "# Plot histogram of age distribution\n",
    "plt.hist(data_copy['Age'], bins=15, color='deepskyblue', edgecolor='white', alpha=0.8)\n",
    "plt.title('Distribution of Employee Ages')\n",
    "plt.xlabel('Age')\n",
    "plt.ylabel('Number of Employees')\n",
    "plt.grid(True, alpha=0.3)\n",
    "plt.show()"
   ]
  },
  {
   "cell_type": "markdown",
   "metadata": {},
   "source": [
    "### Task 1G: 3 points\n",
    "Visualize the number of employees terminated for different reasons"
   ]
  },
  {
   "cell_type": "code",
   "execution_count": null,
   "metadata": {},
   "outputs": [],
   "source": [
    "# Task 1G: Visualize the number of employees terminated for different reasons\n",
    "\n",
    "# Count terminated employees by reason\n",
    "termination_counts = HR_data_cleaned['TermReason'].value_counts()\n",
    "print(\"Termination reasons:\")\n",
    "print(termination_counts)\n",
    "\n",
    "# Plot the termination reasons with better formatting\n",
    "plt.figure(figsize=(10, 6))\n",
    "termination_counts.plot(kind='bar')\n",
    "plt.title('Number of Employees Terminated by Reason')\n",
    "plt.xlabel('Termination Reason')\n",
    "plt.ylabel('Number of Employees')\n",
    "plt.xticks(rotation=90, fontsize=8)\n",
    "plt.tight_layout()\n",
    "plt.show()\n"
   ]
  },
  {
   "cell_type": "markdown",
   "metadata": {},
   "source": [
    "### Task 1H: 3 points\n",
    "Plot a histogram by analyzing the relationship between employee satisfaction and engagement survey score"
   ]
  },
  {
   "cell_type": "code",
   "execution_count": null,
   "metadata": {},
   "outputs": [],
   "source": [
    "# Task 1H: Plot histogram analyzing relationship between employee satisfaction and engagement survey score\n",
    "\n",
    "plt.hist2d(HR_data_cleaned['EmpSatisfaction'], HR_data_cleaned['EngagementSurvey'], bins=20, cmap='Blues')\n",
    "plt.colorbar(label='Number of Employees')\n",
    "plt.title('Histogram: Relationship between Employee Satisfaction and Engagement Survey Score')\n",
    "plt.xlabel('Employee Satisfaction Score')\n",
    "plt.ylabel('Engagement Survey Score')\n",
    "plt.show()\n"
   ]
  },
  {
   "cell_type": "markdown",
   "metadata": {},
   "source": [
    "### Task 1I: 3 points\n",
    "Analyze and plot a line graph showing the relationship between days late in the last 30 days and performance score"
   ]
  },
  {
   "cell_type": "code",
   "execution_count": null,
   "metadata": {},
   "outputs": [],
   "source": [
    "# Task 1I: Analyze and plot line graph showing relationship between days late and performance score\n",
    "\n",
    "# Convert performance score to numerical for proper analysis\n",
    "performance_mapping = {\n",
    "    'Exceeds': 5,\n",
    "    'Fully Meets': 4, \n",
    "    'Needs Improvement': 2,\n",
    "    'PIP': 1\n",
    "}\n",
    "\n",
    "# Create a copy and add numerical performance score\n",
    "data_analysis = HR_data_cleaned.copy()\n",
    "data_analysis['PerformanceScore_Numeric'] = data_analysis['PerformanceScore'].map(performance_mapping)\n",
    "\n",
    "# Group by days late and calculate average performance score\n",
    "performance_by_days_late = data_analysis.groupby('DaysLateLast30')['PerformanceScore_Numeric'].mean().reset_index()\n",
    "\n",
    "print(\"Average Performance Score by Days Late:\")\n",
    "print(performance_by_days_late)\n",
    "\n",
    "# Plot line graph showing relationship\n",
    "plt.figure(figsize=(10, 6))\n",
    "plt.plot(performance_by_days_late['DaysLateLast30'], performance_by_days_late['PerformanceScore_Numeric'], \n",
    "         marker='o', linewidth=2, markersize=8)\n",
    "\n",
    "plt.title('Relationship between Days Late (Last 30) and Performance Score')\n",
    "plt.xlabel('Days Late in Last 30 Days')\n",
    "plt.ylabel('Average Performance Score')\n",
    "plt.grid(True, alpha=0.3)\n",
    "plt.show()\n"
   ]
  },
  {
   "cell_type": "markdown",
   "metadata": {},
   "source": [
    "### Task 1J: 3 points\n",
    "Calculate and plot a barchart the turnover rate by department"
   ]
  },
  {
   "cell_type": "code",
   "execution_count": null,
   "metadata": {},
   "outputs": [],
   "source": [
    "# Task 1J: Calculate and plot barchart of turnover rate by department\n",
    "\n",
    "# For turnover rate, we need all employees (not just cleaned data)\n",
    "# Calculate turnover rate by department\n",
    "# Turnover rate = (Number of terminated employees / Total employees) * 100\n",
    "\n",
    "# Count total employees per department\n",
    "total_by_dept = HR_data.groupby('Department').size()\n",
    "\n",
    "# Count terminated employees per department  \n",
    "terminated_by_dept = HR_data.groupby('Department')['Termd'].sum()\n",
    "\n",
    "# Calculate turnover rate\n",
    "turnover_by_dept = (terminated_by_dept / total_by_dept) * 100\n",
    "\n",
    "print(\"Turnover rate by department:\")\n",
    "print(turnover_by_dept)\n",
    "\n",
    "# Plot barchart\n",
    "turnover_by_dept.plot(kind='bar', figsize=(10, 6))\n",
    "plt.title('Turnover Rate by Department')\n",
    "plt.xlabel('Department')\n",
    "plt.ylabel('Turnover Rate (%)')\n",
    "plt.xticks(rotation=45)\n",
    "plt.tight_layout()\n",
    "plt.show()\n"
   ]
  },
  {
   "cell_type": "markdown",
   "metadata": {},
   "source": [
    "## Task 2: R(25 Points)\n",
    "\n",
    "Perform all the task for R where the data and the questions are same as that for Task 1.\n",
    "\n",
    "Use a different R notebook."
   ]
  },
  {
   "cell_type": "markdown",
   "metadata": {},
   "source": [
    "## Task 3: AI (20 Points)\n",
    "\n",
    "Perform all the task using any AI where the data and the questions are same as that for Task 1.\n",
    "\n",
    "Provide the screenshots of prompts and output of AI in word document."
   ]
  },
  {
   "cell_type": "markdown",
   "metadata": {},
   "source": [
    "## Task 4: Critical Thinking (30 Points)"
   ]
  },
  {
   "cell_type": "markdown",
   "metadata": {},
   "source": [
    "### Task 4A: Critical Thinking Task 1- Python (10 Points)\n",
    "Analyze the relationship between employee satisfaction (EmpSatisfaction) and their performance score (PerformanceScore).\n",
    "Does higher employee satisfaction correlate with better performance scores? Use statistical methods to determine the strength and significance of the correlation."
   ]
  },
  {
   "cell_type": "code",
   "execution_count": null,
   "metadata": {},
   "outputs": [],
   "source": [
    "# Task 4A: Critical Thinking - Analyze relationship between employee satisfaction and performance score\n",
    "\n",
    "import numpy as np\n",
    "from scipy import stats\n",
    "\n",
    "# First, let's examine our data\n",
    "print(\"DATA OVERVIEW:\")\n",
    "print(\"Employee Satisfaction (EmpSatisfaction) - Numerical values:\")\n",
    "print(HR_data_cleaned['EmpSatisfaction'].describe())\n",
    "print(\"\\nPerformance Score (PerformanceScore) - Categorical values:\")\n",
    "print(HR_data_cleaned['PerformanceScore'].value_counts())\n",
    "\n",
    "# Convert Performance Score to numerical for correlation analysis\n",
    "# Assign numerical values: Exceeds = 5, Fully Meets = 4, Needs Improvement = 2, PIP = 1\n",
    "performance_mapping = {\n",
    "    'Exceeds': 5,\n",
    "    'Fully Meets': 4, \n",
    "    'Needs Improvement': 2,\n",
    "    'PIP': 1\n",
    "}\n",
    "\n",
    "HR_data_cleaned['PerformanceScore_Numeric'] = HR_data_cleaned['PerformanceScore'].map(performance_mapping)\n",
    "\n",
    "print(\"\\nCONVERTED PERFORMANCE SCORES\")\n",
    "print(HR_data_cleaned['PerformanceScore_Numeric'].value_counts().sort_index())\n"
   ]
  },
  {
   "cell_type": "code",
   "execution_count": null,
   "metadata": {},
   "outputs": [],
   "source": [
    "# Statistical Analysis - Correlation and Significance Testing\n",
    "\n",
    "print(\"STATISTICAL ANALYSIS:\")\n",
    "\n",
    "# Calculate Pearson correlation coefficient\n",
    "satisfaction = HR_data_cleaned['EmpSatisfaction']\n",
    "performance = HR_data_cleaned['PerformanceScore_Numeric']\n",
    "\n",
    "# Remove any NaN values for correlation calculation\n",
    "valid_data = HR_data_cleaned[['EmpSatisfaction', 'PerformanceScore_Numeric']].dropna()\n",
    "satisfaction_clean = valid_data['EmpSatisfaction']\n",
    "performance_clean = valid_data['PerformanceScore_Numeric']\n",
    "\n",
    "# Calculate correlation coefficient\n",
    "correlation_coef, p_value = stats.pearsonr(satisfaction_clean, performance_clean)\n",
    "\n",
    "print(f\"Sample size: {len(valid_data)} employees\")\n",
    "print(f\"Pearson correlation coefficient: {correlation_coef:.4f}\")\n",
    "print(f\"P-value: {p_value:.6f}\")\n",
    "\n",
    "# Interpret correlation strength\n",
    "if abs(correlation_coef) >= 0.7:\n",
    "    strength = \"strong\"\n",
    "elif abs(correlation_coef) >= 0.5:\n",
    "    strength = \"moderate\"\n",
    "elif abs(correlation_coef) >= 0.3:\n",
    "    strength = \"weak\"\n",
    "else:\n",
    "    strength = \"very weak\"\n",
    "\n",
    "# Interpret significance\n",
    "if p_value < 0.001:\n",
    "    significance = \"highly significant (p < 0.001)\"\n",
    "elif p_value < 0.01:\n",
    "    significance = \"very significant (p < 0.01)\"\n",
    "elif p_value < 0.05:\n",
    "    significance = \"significant (p < 0.05)\"\n",
    "else:\n",
    "    significance = \"not significant (p ≥ 0.05)\"\n",
    "\n",
    "print(f\"\\nCorrelation interpretation: {strength} {'positive' if correlation_coef > 0 else 'negative'} correlation\")\n",
    "print(f\"Statistical significance: {significance}\")\n"
   ]
  },
  {
   "cell_type": "code",
   "execution_count": null,
   "metadata": {},
   "outputs": [],
   "source": [
    "# Visual Analysis - Scatter plot to show relationship\n",
    "\n",
    "plt.figure(figsize=(10, 6))\n",
    "plt.scatter(satisfaction_clean, performance_clean, alpha=0.6, s=50)\n",
    "\n",
    "# Add trend line\n",
    "z = np.polyfit(satisfaction_clean, performance_clean, 1)\n",
    "p = np.poly1d(z)\n",
    "plt.plot(satisfaction_clean, p(satisfaction_clean), \"r--\", alpha=0.8, linewidth=2)\n",
    "\n",
    "plt.title('Relationship between Employee Satisfaction and Performance Score')\n",
    "plt.xlabel('Employee Satisfaction Score')\n",
    "plt.ylabel('Performance Score (Numerical)')\n",
    "plt.grid(True, alpha=0.3)\n",
    "\n",
    "# Add correlation info to plot\n",
    "plt.text(0.05, 0.95, f'Correlation: {correlation_coef:.3f}\\nP-value: {p_value:.4f}', \n",
    "         transform=plt.gca().transAxes, verticalalignment='top',\n",
    "         bbox=dict(boxstyle='round', facecolor='white', alpha=0.8))\n",
    "\n",
    "plt.tight_layout()\n",
    "plt.show()\n"
   ]
  },
  {
   "cell_type": "markdown",
   "metadata": {},
   "source": [
    "## Critical Thinking Analysis - Task 4A\n",
    "\n",
    "### Research Question: \n",
    "**Does higher employee satisfaction correlate with better performance scores?**\n",
    "\n",
    "### Statistical Findings:\n",
    "\n",
    "**Sample Characteristics:**\n",
    "- **Sample Size:** 104 employees (clean dataset after removing null values)\n",
    "- **Employee Satisfaction Range:** 2.0 to 5.0 (mean: 3.88, std: 0.86)\n",
    "- **Performance Distribution:** \n",
    "  - 81 employees (77.9%) - \"Fully Meets\" expectations\n",
    "  - 10 employees (9.6%) - \"Needs Improvement\" \n",
    "  - 8 employees (7.7%) - \"Exceeds\" expectations\n",
    "  - 5 employees (4.8%) - \"PIP\" (Performance Improvement Plan)\n",
    "\n",
    "**Correlation Analysis:**\n",
    "- **Correlation Coefficient:** 0.2943\n",
    "- **P-value:** 0.0024 (p < 0.01)\n",
    "- **Correlation Strength:** Very weak positive correlation\n",
    "- **Statistical Significance:** Very significant (p < 0.01)\n",
    "\n",
    "### Key Insights:\n",
    "\n",
    "1. **Weak but Significant Relationship:** The correlation coefficient of 0.294 indicates a very weak positive relationship between employee satisfaction and performance. However, the p-value of 0.0024 shows this relationship is statistically significant, meaning it's unlikely to be due to random chance.\n",
    "\n",
    "2. **Visual Confirmation:** The scatter plot shows:\n",
    "   - **Wide dispersion** of data points around the trend line, confirming the weak correlation\n",
    "   - **Slight upward slope** of the red trend line, supporting the positive relationship\n",
    "   - **Data clustering** around satisfaction scores of 3.0-4.0 and performance scores of 4.0\n",
    "   - **Outliers present** with some employees showing high satisfaction but low performance, and vice versa\n",
    "\n",
    "3. **Performance Distribution Skew:** The data reveals a heavily skewed performance distribution:\n",
    "   - 77.9% of employees are rated as \"Fully Meets\" expectations\n",
    "   - Only 7.7% exceed expectations\n",
    "   - This suggests either most employees are performing adequately or there may be evaluation criteria issues\n",
    "\n",
    "4. **Limited Practical Impact:** The weak correlation (r = 0.294) means employee satisfaction explains only about 8.7% of the variance in performance scores (r² = 0.087), indicating that other factors play a much larger role in determining performance.\n",
    "\n",
    "### Business Recommendations:\n",
    "\n",
    "**Based on Weak Positive Correlation Found:**\n",
    "- **Don't rely solely on satisfaction** as a performance predictor\n",
    "- **Focus on other factors** that drive performance (training, resources, management quality, job fit)\n",
    "- **Investigate why correlation is weak** - are satisfaction surveys measuring the right factors?\n",
    "- **Consider performance evaluation methods** - 77.9% \"Fully Meets\" suggests potential evaluation issues\n",
    "\n",
    "### Limitations:\n",
    "- Sample size of 104 employees provides adequate statistical power\n",
    "- Correlation does not imply causation\n",
    "- Other factors (manager quality, job fit, compensation, etc.) may influence both variables\n",
    "- Performance evaluation criteria may be too lenient (ceiling effect)\n",
    "\n",
    "### Conclusion:\n",
    "**Answer to Research Question:** Yes, higher employee satisfaction does correlate with better performance scores, but the relationship is very weak (r = 0.294). While statistically significant, satisfaction alone is not a reliable predictor of performance outcomes in this organization.\n"
   ]
  },
  {
   "cell_type": "markdown",
   "metadata": {},
   "source": []
  },
  {
   "cell_type": "markdown",
   "metadata": {},
   "source": [
    "### Task 4B: Critical Thinking Task 2: Python (10 Points)\n",
    "Which recruitment source yields employees with the longest tenure, and what might this suggest about the source's effectiveness in finding long-term hires?"
   ]
  },
  {
   "cell_type": "markdown",
   "metadata": {},
   "source": []
  },
  {
   "cell_type": "markdown",
   "metadata": {},
   "source": [
    "### Task 4C: Critical Thinking Task 3: AI (10 Points)\n",
    "Using an AI tool, generate predictions about an employee's likelihood of being terminated (Termd) based on their satisfaction score (EmpSatisfaction), engagement survey score (EngagementSurvey), and recruitment source (RecruitmentSource)?"
   ]
  },
  {
   "cell_type": "markdown",
   "metadata": {},
   "source": []
  },
  {
   "cell_type": "markdown",
   "metadata": {},
   "source": [
    "### Programming Assignment Details\n",
    "\n",
    "1. If using any resource (books, internet,AI), please make sure that you cite it within that cell.\n",
    "2. Do not rename the dataset_files."
   ]
  },
  {
   "cell_type": "markdown",
   "metadata": {},
   "source": [
    "###  Submission details\n",
    "Fill your name and ID in the jupyter notebook for each group member in the following format:\n",
    "\n",
    "1. First Student Name and ID: ABC 1001XXXXXX\n",
    "2. Second Student Name and ID: DEF 1002XXXXXX\n",
    "3. Third Student Name and ID: GHI 1003XXXXXX\n",
    "\n",
    "Name your submission files:\n",
    "\n",
    "yourLastName_Last4digitsofyourID.ipynb \n",
    "\n",
    "yourLastName_Last4digitsofyourID.docx\n",
    "\n",
    "EG: abc_1234_def_5678_xyz3819_python.ipynb, abc_1234_def_5678_xyz3819_R.ipynb and abc_1234_def_5678_xyz3819.docx"
   ]
  },
  {
   "cell_type": "markdown",
   "metadata": {},
   "source": [
    "### NOTE: Only one team member will submit the file."
   ]
  }
 ],
 "metadata": {
  "kernelspec": {
   "display_name": "venv",
   "language": "python",
   "name": "python3"
  },
  "language_info": {
   "codemirror_mode": {
    "name": "ipython",
    "version": 3
   },
   "file_extension": ".py",
   "mimetype": "text/x-python",
   "name": "python",
   "nbconvert_exporter": "python",
   "pygments_lexer": "ipython3",
   "version": "3.13.3"
  }
 },
 "nbformat": 4,
 "nbformat_minor": 2
}
